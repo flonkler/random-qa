{
 "cells": [
  {
   "cell_type": "code",
   "execution_count": 12,
   "metadata": {},
   "outputs": [],
   "source": [
    "import os, sys\n",
    "ROOT_DIR = os.path.abspath(\"..\")\n",
    "sys.path.append(ROOT_DIR)"
   ]
  },
  {
   "cell_type": "code",
   "execution_count": 13,
   "metadata": {},
   "outputs": [],
   "source": [
    "import neo4j\n",
    "import pandas as pd\n",
    "from random_qa.config import InferenceConfig, EvaluationConfig\n",
    "from random_qa.cli import init_env, run_inference, run_evaluation"
   ]
  },
  {
   "cell_type": "code",
   "execution_count": 14,
   "metadata": {},
   "outputs": [
    {
     "data": {
      "text/html": [
       "<style>\n",
       "        .cell-output-ipywidget-background {\n",
       "            background-color: transparent !important;\n",
       "        }\n",
       "        :root {\n",
       "            --jp-widgets-color: var(--vscode-editor-foreground);\n",
       "            --jp-widgets-font-size: var(--vscode-editor-font-size);\n",
       "        }  \n",
       "        </style>\n",
       "        <div>Loaded <code>tqdm</code> widget for notebooks</div>"
      ]
     },
     "metadata": {},
     "output_type": "display_data"
    }
   ],
   "source": [
    "init_env()"
   ]
  },
  {
   "cell_type": "code",
   "execution_count": 23,
   "metadata": {},
   "outputs": [],
   "source": [
    "# Specify a custom question and ground truth query\n",
    "question = \"How many tiles does a cell cover on average?\"\n",
    "query = \"\"\"\n",
    "MATCH (c:Cell)<-[:COVERED_BY]-(t:Tile)\n",
    "WITH c, COUNT(t) AS count\n",
    "RETURN avg(count) AS meanTileCount\n",
    "\"\"\"\n",
    "with neo4j.GraphDatabase.driver(\"bolt://localhost:7687\") as driver:\n",
    "    with driver.session() as session:\n",
    "        query_result = session.run(query).data()\n",
    "\n",
    "answer = str(query_result[0][\"meanTileCount\"])\n",
    "\n",
    "df_samples = pd.DataFrame([\n",
    "    (\"9000_0\", question, query, query_result, answer)\n",
    "], columns=(\"sample_id\", \"question\", \"query\", \"query_result\", \"answer\")).set_index(\"sample_id\")"
   ]
  },
  {
   "cell_type": "code",
   "execution_count": 24,
   "metadata": {},
   "outputs": [
    {
     "data": {
      "application/vnd.jupyter.widget-view+json": {
       "model_id": "f9886fd63a1d426e88b6d6bbe87522ba",
       "version_major": 2,
       "version_minor": 0
      },
      "text/plain": [
       "  0%|          | 0/1 [00:00<?, ?it/s]"
      ]
     },
     "metadata": {},
     "output_type": "display_data"
    },
    {
     "name": "stdout",
     "output_type": "stream",
     "text": [
      "Generated query:\n",
      "MATCH (t:Tile)-[:COVERED_BY]->(c:Cell)\n",
      "WITH c, COUNT(t) AS tileCount\n",
      "RETURN AVG(tileCount) AS averageTilesPerCell\n",
      "\n",
      "Generated answer: 62.32 tiles\n"
     ]
    }
   ],
   "source": [
    "df_results = await run_inference(df_samples, InferenceConfig(scenario=\"open-book\", query_llm=\"gpt-4o\", answer_llm=\"gpt-4o\"))\n",
    "\n",
    "print(\"Generated query:\")\n",
    "print(df_results.iloc[0].query)\n",
    "print(f\"\\nGenerated answer: {df_results.iloc[0].answer}\")"
   ]
  },
  {
   "cell_type": "code",
   "execution_count": 27,
   "metadata": {},
   "outputs": [
    {
     "data": {
      "application/vnd.jupyter.widget-view+json": {
       "model_id": "6ac3a434296743e9883fb19d54f977b8",
       "version_major": 2,
       "version_minor": 0
      },
      "text/plain": [
       "  0%|          | 0/1 [00:00<?, ?it/s]"
      ]
     },
     "metadata": {},
     "output_type": "display_data"
    },
    {
     "name": "stdout",
     "output_type": "stream",
     "text": [
      "Predicted query result: [{'averageTilesPerCell': 62.31545375471149}]\n",
      "Expected query result: [{'meanTileCount': 62.31545375471149}]\n",
      "Query recall: 1.0\n",
      "Query precision: 1.0\n",
      "Query F1-score: 1.0\n",
      "\n",
      "Predicted answer: 62.32 tiles\n",
      "Expected answer: 62.31545375471149\n",
      "Answer EM: 0.0\n",
      "Answer KWR: 0.0\n",
      "Answer R_BERT: 0.13323578238487244\n",
      "Answer P_BERT: 0.03035748191177845\n",
      "Answer F_BERT: 0.08321505784988403\n",
      "Answer CG: 4\n",
      "Justification: The generated answer of 62.32 tiles is very close to the ground truth answer of 62.31545375471149, with a difference of only 0.00454624528851. This is a minor rounding difference and does not significantly alter the factual correctness.\n"
     ]
    }
   ],
   "source": [
    "df_metrics = await run_evaluation(df_samples, df_results, EvaluationConfig(eval_llm=\"gpt-4o\"))\n",
    "df_metrics\n",
    "\n",
    "print(f\"Predicted query result: {df_results.iloc[0].query_result}\")\n",
    "print(f\"Expected query result: {df_samples.iloc[0].query_result}\")\n",
    "print(f\"Query recall: {df_metrics.iloc[0].query_recall}\")\n",
    "print(f\"Query precision: {df_metrics.iloc[0].query_precision}\")\n",
    "print(f\"Query F1-score: {df_metrics.iloc[0].query_f1}\")\n",
    "\n",
    "print(f\"\\nPredicted answer: {df_results.iloc[0].answer}\")\n",
    "print(f\"Expected answer: {df_samples.iloc[0].answer}\")\n",
    "print(f\"Answer EM: {df_metrics.iloc[0].answer_exact_match}\")\n",
    "print(f\"Answer KWR: {df_metrics.iloc[0].answer_keyword_recall}\")\n",
    "print(f\"Answer R_BERT: {df_metrics.iloc[0].answer_bert_score_recall}\")\n",
    "print(f\"Answer P_BERT: {df_metrics.iloc[0].answer_bert_score_precision}\")\n",
    "print(f\"Answer F_BERT: {df_metrics.iloc[0].answer_bert_score_f1}\")\n",
    "print(f\"Answer CG: {df_metrics.iloc[0].answer_correctness['score']}\")\n",
    "print(f\"Justification: {df_metrics.iloc[0].answer_correctness['justification']}\")"
   ]
  }
 ],
 "metadata": {
  "kernelspec": {
   "display_name": ".venv",
   "language": "python",
   "name": "python3"
  },
  "language_info": {
   "codemirror_mode": {
    "name": "ipython",
    "version": 3
   },
   "file_extension": ".py",
   "mimetype": "text/x-python",
   "name": "python",
   "nbconvert_exporter": "python",
   "pygments_lexer": "ipython3",
   "version": "3.10.12"
  }
 },
 "nbformat": 4,
 "nbformat_minor": 2
}
